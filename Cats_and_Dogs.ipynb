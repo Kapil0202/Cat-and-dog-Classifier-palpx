{
  "nbformat": 4,
  "nbformat_minor": 0,
  "metadata": {
    "kernelspec": {
      "language": "python",
      "display_name": "Python 3",
      "name": "python3"
    },
    "language_info": {
      "pygments_lexer": "ipython3",
      "nbconvert_exporter": "python",
      "version": "3.6.4",
      "file_extension": ".py",
      "codemirror_mode": {
        "name": "ipython",
        "version": 3
      },
      "name": "python",
      "mimetype": "text/x-python"
    },
    "colab": {
      "name": "Cats and Dogs.ipynb",
      "provenance": [],
      "collapsed_sections": [],
      "include_colab_link": true
    }
  },
  "cells": [
    {
      "cell_type": "markdown",
      "metadata": {
        "id": "view-in-github",
        "colab_type": "text"
      },
      "source": [
        "<a href=\"https://colab.research.google.com/github/Kapil0202/Cat-and-dog-Classifier-palpx/blob/master/Cats_and_Dogs.ipynb\" target=\"_parent\"><img src=\"https://colab.research.google.com/assets/colab-badge.svg\" alt=\"Open In Colab\"/></a>"
      ]
    },
    {
      "cell_type": "markdown",
      "metadata": {
        "_uuid": "52ba7940f430ddbcfe5c608e3fac6d969f89b836",
        "id": "8kCioIEf30tM",
        "colab_type": "text"
      },
      "source": [
        "**Cat and Dog Classifier**\n",
        "\n"
      ]
    },
    {
      "cell_type": "code",
      "metadata": {
        "_uuid": "8f2839f25d086af736a60e9eeb907d3b93b6e0e5",
        "_cell_guid": "b1076dfc-b9ad-4769-8c92-a6c4dae69d19",
        "trusted": true,
        "id": "z8KLQ6FS30tP",
        "colab_type": "code",
        "colab": {}
      },
      "source": [
        "#importing packages and Libraries \n",
        "\n",
        "import numpy as np\n",
        "import pandas as pd \n",
        "import cv2\n",
        "import matplotlib.pyplot as plt\n",
        "\n",
        "from sklearn.datasets import make_circles\n",
        "from sklearn.metrics import accuracy_score\n",
        "from sklearn.metrics import precision_score\n",
        "from sklearn.metrics import recall_score\n",
        "from sklearn.metrics import f1_score\n",
        "\n",
        "import tensorflow as tf\n",
        "from tensorflow.keras.models import Sequential\n",
        "from tensorflow.keras.layers import Dense, Flatten, Dropout, Activation, Conv2D, MaxPooling2D\n",
        "\n",
        "# Input data files are available in the \"../input/\" directory.\n",
        "# For example, running this (by clicking run or pressing Shift+Enter) will list the files in the input directory\n",
        "\n",
        "import os\n",
        "print(os.listdir(\"../input\"))\n",
        "\n",
        "import zipfile\n",
        "\n",
        "with zipfile.ZipFile(\"../input/train.zip\",\"r\") as z:\n",
        "    z.extractall(\".\")\n",
        "    \n",
        "with zipfile.ZipFile(\"../input/test1.zip\",\"r\") as z:\n",
        "    z.extractall(\".\")\n",
        "\n",
        "# Any results you write to the current directory are saved as output.\n",
        "\n",
        "#print(os.listdir(\"/kaggle/working/train\"))"
      ],
      "execution_count": null,
      "outputs": []
    },
    {
      "cell_type": "code",
      "metadata": {
        "_cell_guid": "79c7e3d0-c299-4dcb-8224-4455121ee9b0",
        "_uuid": "d629ff2d2480ee46fbb7e2d37f6b5fab8052498a",
        "trusted": true,
        "id": "Pt4O3k9H30tW",
        "colab_type": "code",
        "colab": {}
      },
      "source": [
        "main_dir = \"/kaggle/working/\"\n",
        "train_dir = \"train\"\n",
        "path = os.path.join(main_dir,train_dir)\n",
        "\n",
        "for p in os.listdir(path):\n",
        "    category = p.split(\".\")[0]\n",
        "    img_array = cv2.imread(os.path.join(path,p),cv2.IMREAD_GRAYSCALE)\n",
        "    new_img_array = cv2.resize(img_array, dsize=(80, 80))\n",
        "    plt.imshow(new_img_array,cmap=\"gray\")\n",
        "    break\n"
      ],
      "execution_count": null,
      "outputs": []
    },
    {
      "cell_type": "code",
      "metadata": {
        "trusted": true,
        "_uuid": "cfa2a50c1ea569d97806510e0e313e1ce9d7452b",
        "id": "ZnZKapHs30tc",
        "colab_type": "code",
        "colab": {}
      },
      "source": [
        "#creating input matrix for input layer  of Network\n",
        "\n",
        "X = []\n",
        "y = []\n",
        "convert = lambda category : int(category == 'dog')\n",
        "def create_test_data(path):\n",
        "    for p in os.listdir(path):\n",
        "        category = p.split(\".\")[0]\n",
        "        category = convert(category)\n",
        "        img_array = cv2.imread(os.path.join(path,p),cv2.IMREAD_GRAYSCALE)\n",
        "        new_img_array = cv2.resize(img_array, dsize=(80, 80))\n",
        "        X.append(new_img_array)\n",
        "        y.append(category)\n",
        "    "
      ],
      "execution_count": null,
      "outputs": []
    },
    {
      "cell_type": "code",
      "metadata": {
        "trusted": true,
        "_uuid": "6e30159db4207451532ac085e617bc2669c93714",
        "id": "N9C8tS4L30tk",
        "colab_type": "code",
        "colab": {}
      },
      "source": [
        "#reshape\n",
        "\n",
        "create_test_data(path)\n",
        "X = np.array(X).reshape(-1, 80,80,1)\n",
        "y = np.array(y)"
      ],
      "execution_count": null,
      "outputs": []
    },
    {
      "cell_type": "code",
      "metadata": {
        "trusted": true,
        "_uuid": "6fc971001358f8cdeefedc884b85240e8c82dc35",
        "id": "RBU5NT9330tq",
        "colab_type": "code",
        "colab": {}
      },
      "source": [
        "#import pickle\n",
        "\n",
        "#pickle.dump( X, open( \"train_x\", \"wb\" ) )\n",
        "#pickle.dump( y, open( \"train_y\", \"wb\" ) )\n"
      ],
      "execution_count": null,
      "outputs": []
    },
    {
      "cell_type": "code",
      "metadata": {
        "trusted": true,
        "_uuid": "aac4daf7957d1429a9d47e19c75459c217f04d50",
        "id": "v0Y3tjyi30tv",
        "colab_type": "code",
        "colab": {}
      },
      "source": [
        "#Normalize data\n",
        "X = X/255.0"
      ],
      "execution_count": null,
      "outputs": []
    },
    {
      "cell_type": "code",
      "metadata": {
        "trusted": true,
        "_uuid": "80c4b5ece66f7a069cfb6194779dc02ef76ce3e8",
        "id": "8qy5z2sR30t1",
        "colab_type": "code",
        "colab": {}
      },
      "source": [
        "#Neural Networks\n",
        "\n",
        "model = Sequential()\n",
        "# Adds a densely-connected layer with 64 units to the model:\n",
        "model.add(Conv2D(64,(3,3), activation = 'relu', input_shape = X.shape[1:]))\n",
        "model.add(MaxPooling2D(pool_size = (2,2)))\n",
        "# Add another:\n",
        "model.add(Conv2D(64,(3,3), activation = 'relu'))\n",
        "model.add(MaxPooling2D(pool_size = (2,2)))\n",
        "\n",
        "model.add(Flatten())\n",
        "model.add(Dense(64, activation='relu'))\n",
        "# Add a softmax layer with 10 output units:\n",
        "model.add(Dense(1, activation='sigmoid'))\n",
        "\n",
        "model.compile(optimizer=\"adam\",\n",
        "              loss='binary_crossentropy',\n",
        "              metrics=['accuracy'])"
      ],
      "execution_count": null,
      "outputs": []
    },
    {
      "cell_type": "code",
      "metadata": {
        "trusted": true,
        "_uuid": "ec02e9538761ef147ba6e0c2129dba117a37efa1",
        "id": "huTp1Gz_30t6",
        "colab_type": "code",
        "colab": {}
      },
      "source": [
        "model.fit(X, y, epochs=10, batch_size=32, validation_split=0.2)"
      ],
      "execution_count": null,
      "outputs": []
    },
    {
      "cell_type": "markdown",
      "metadata": {
        "_uuid": "351552012321cc626c0177be12aee5c797ea72df",
        "id": "AmP4dMu-30t-",
        "colab_type": "text"
      },
      "source": [
        "Now we have to preporcess our test data also same as that our training data."
      ]
    },
    {
      "cell_type": "code",
      "metadata": {
        "trusted": true,
        "_uuid": "6b55df2d3396f6d27d4e5d4ea4584a9e1733bc92",
        "id": "3LYyza4z30t_",
        "colab_type": "code",
        "colab": {}
      },
      "source": [
        "train_dir = \"test1\"\n",
        "path = os.path.join(main_dir,train_dir)\n",
        "#os.listdir(path)\n",
        "\n",
        "X_test = []\n",
        "Y_test =[]\n",
        "id_line = []\n",
        "def create_test1_data(path):\n",
        "    for p in os.listdir(path):\n",
        "        id_line.append(p.split(\".\")[0])\n",
        "        img_array = cv2.imread(os.path.join(path,p),cv2.IMREAD_GRAYSCALE)\n",
        "        new_img_array = cv2.resize(img_array, dsize=(80, 80))\n",
        "        X_test.append(new_img_array)\n",
        "create_test1_data(path)\n",
        "X_test = np.array(X_test).reshape(-1,80,80,1)\n",
        "X_test = X_test/255\n",
        "Y_test = np.array(Y_test).reshape(-1,80,80,1)"
      ],
      "execution_count": null,
      "outputs": []
    },
    {
      "cell_type": "markdown",
      "metadata": {
        "_uuid": "35c262be8b002a0cb484de9d22f14ba5d2557baf",
        "id": "Wy5SOMhM30uD",
        "colab_type": "text"
      },
      "source": [
        "\n",
        "**PREDICTION**\n",
        "\n",
        "so feeding our model with test data to predict"
      ]
    },
    {
      "cell_type": "code",
      "metadata": {
        "trusted": true,
        "_uuid": "7b902cc4d61cfaa770fdf3b674b399e87fd62ac5",
        "id": "PqOEIQR_30uE",
        "colab_type": "code",
        "colab": {}
      },
      "source": [
        "predictions = model.predict(X_test)"
      ],
      "execution_count": null,
      "outputs": []
    },
    {
      "cell_type": "markdown",
      "metadata": {
        "_uuid": "edca7d26b6ce321154679e3d8eb7b6631380e241",
        "id": "UtWW3BH730uJ",
        "colab_type": "text"
      },
      "source": [
        "We are rounding the result here as we used sigmoid function and we got the probablity values in our predicted dataset"
      ]
    },
    {
      "cell_type": "code",
      "metadata": {
        "trusted": true,
        "_uuid": "87ea9ff5a4e9cfa0ac21a1af18b08e86b9183425",
        "id": "APD-aTwE30uK",
        "colab_type": "code",
        "colab": {}
      },
      "source": [
        "predicted_val = [int(round(p[0])) for p in predictions]"
      ],
      "execution_count": null,
      "outputs": []
    },
    {
      "cell_type": "markdown",
      "metadata": {
        "_uuid": "0cebf5eada571b472b883efe532b921c59629dfd",
        "id": "H5oa_iyD30uO",
        "colab_type": "text"
      },
      "source": [
        "**Now** we have to make submission data frame to submit your resultset"
      ]
    },
    {
      "cell_type": "code",
      "metadata": {
        "trusted": true,
        "_uuid": "1496f4fb9e8752d359a5f0a6ccee6c544ee896a8",
        "id": "mUZ9qzAR30uP",
        "colab_type": "code",
        "colab": {}
      },
      "source": [
        "submission_df = pd.DataFrame({'id':id_line, 'label':predicted_val})"
      ],
      "execution_count": null,
      "outputs": []
    },
    {
      "cell_type": "markdown",
      "metadata": {
        "_uuid": "f599430d2f3062ec7a726bff3caef2a5ffd01166",
        "id": "KssxmccU30uT",
        "colab_type": "text"
      },
      "source": [
        "Write  data frame to a csv file"
      ]
    },
    {
      "cell_type": "code",
      "metadata": {
        "trusted": true,
        "_uuid": "2031743817724557d2b65b34541ade436133c657",
        "id": "biAo_9YX30uV",
        "colab_type": "code",
        "colab": {}
      },
      "source": [
        "submission_df.to_csv(\"submission.csv\", index=False) #completed"
      ],
      "execution_count": null,
      "outputs": []
    },
    {
      "cell_type": "code",
      "metadata": {
        "id": "yZlnTKYWn1Lj",
        "colab_type": "code",
        "colab": {}
      },
      "source": [
        "# predict probabilities for test set\n",
        "yhat_probs = model.predict(X_test, verbose=0)\n",
        "# predict crisp classes for test set\n",
        "yhat_classes = model.predict_classes(X_test, verbose=0)\n",
        "# reduce to 1d array\n",
        "yhat_probs = yhat_probs[:, 0]\n",
        "yhat_classes = yhat_classes[:, 0]\n",
        " \n",
        "# accuracy: (tp + tn) / (p + n)\n",
        "accuracy = accuracy_score(Y_test, yhat_classes)\n",
        "print('Accuracy: %f' % accuracy)\n",
        "\n",
        "# precision tp / (tp + fp)\n",
        "precision = precision_score(Y_test, yhat_classes)\n",
        "print('Precision: %f' % precision)\n",
        "\n",
        "# recall: tp / (tp + fn)\n",
        "recall = recall_score(Y_test, yhat_classes)\n",
        "print('Recall: %f' % recall)\n",
        "\n",
        "# f1: 2 tp / (2 tp + fp + fn)\n",
        "f1 = f1_score(Y_test, yhat_classes)\n",
        "print('F1 score: %f' % f1)"
      ],
      "execution_count": null,
      "outputs": []
    }
  ]
}